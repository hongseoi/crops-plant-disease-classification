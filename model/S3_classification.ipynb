{
 "cells": [
  {
   "cell_type": "code",
   "execution_count": 2,
   "id": "44a641ad",
   "metadata": {},
   "outputs": [],
   "source": [
    "import numpy as np\n",
    "import pandas as pd\n",
    "import os\n",
    "import matplotlib.pyplot as plt\n",
    "import torch\n",
    "import torch.nn as nn\n",
    "import torch.nn.functional as F\n",
    "from torch.utils.data import DataLoader,random_split,TensorDataset\n",
    "from torchvision.utils import make_grid\n",
    "from torchvision.transforms import ToTensor\n",
    "from torchvision.datasets import ImageFolder\n",
    "import torchvision.transforms as transforms\n",
    "import torchvision.models as models\n",
    "import torchvision\n",
    "import matplotlib\n",
    "from tqdm.notebook import tqdm"
   ]
  },
  {
   "cell_type": "code",
   "execution_count": 4,
   "id": "ff6bfb91",
   "metadata": {},
   "outputs": [
    {
     "data": {
      "text/plain": [
       "28"
      ]
     },
     "execution_count": 4,
     "metadata": {},
     "output_type": "execute_result"
    }
   ],
   "source": [
    "data ='./S3_data'\n",
    "os.listdir(data)\n",
    "len(os.listdir(data))"
   ]
  },
  {
   "cell_type": "code",
   "execution_count": 5,
   "id": "47d3b8a4",
   "metadata": {},
   "outputs": [
    {
     "name": "stdout",
     "output_type": "stream",
     "text": [
      "Number of Unique Plants:  2\n",
      "Unique Plants:  ['nonplant', 'plant']\n"
     ]
    }
   ],
   "source": [
    "unique_plants = []\n",
    "cl = os.listdir('./S3_data')\n",
    "for i in cl:\n",
    "    x = i.split('__')\n",
    "    if x[0] not in unique_plants:\n",
    "        unique_plants.append(x[0])\n",
    "print(\"Number of Unique Plants: \",len(unique_plants))\n",
    "print(\"Unique Plants: \",unique_plants)"
   ]
  },
  {
   "cell_type": "code",
   "execution_count": 6,
   "id": "ea11fa09",
   "metadata": {},
   "outputs": [],
   "source": [
    "transform = transforms.Compose(\n",
    "    [transforms.Resize(size = 128),\n",
    "     transforms.ToTensor()])"
   ]
  },
  {
   "cell_type": "code",
   "execution_count": 7,
   "id": "415434ee",
   "metadata": {},
   "outputs": [],
   "source": [
    "dataset = ImageFolder(data,transform=transform)\n",
    "test_ds = ImageFolder(data,transform=transform)"
   ]
  },
  {
   "cell_type": "code",
   "execution_count": 8,
   "id": "e7713d6e",
   "metadata": {},
   "outputs": [
    {
     "name": "stdout",
     "output_type": "stream",
     "text": [
      "Number of training images:  69327\n",
      "Number of testing images:  69327\n"
     ]
    }
   ],
   "source": [
    "print(\"Number of training images: \",len(dataset))\n",
    "print(\"Number of testing images: \",len(test_ds))"
   ]
  },
  {
   "cell_type": "code",
   "execution_count": 9,
   "id": "14f3ef5a",
   "metadata": {},
   "outputs": [
    {
     "name": "stdout",
     "output_type": "stream",
     "text": [
      "Number of classes:  28\n",
      "['bean__bean_spot', 'bean__blight', 'bean__brown_spot', 'bean__healthy', 'corn__common_rust', 'corn__gray_spot', 'corn__healthy', 'green_onion__black_spot', 'green_onion__downy_mildew', 'green_onion__healthy', 'green_onion__rust', 'lectuce__downy_mildew', 'lectuce__drop', 'lectuce__healthy', 'pepper__anthracnose', 'pepper__healthy', 'pepper__powdery_mildew', 'potato__Early_Blight', 'potato__healthy', 'potato__late_Blight', 'potato__soft_rot', 'pumpkin__healthy', 'pumpkin__leaf_mold', 'pumpkin__mosaic', 'pumpkin__powdery_mildew', 'radish__black_spot', 'radish__downy_mildew', 'radish_healthy']\n"
     ]
    }
   ],
   "source": [
    "num_classes = dataset.classes\n",
    "print(\"Number of classes: \",len(num_classes))\n",
    "print(num_classes)"
   ]
  },
  {
   "cell_type": "code",
   "execution_count": 10,
   "id": "1fde3e84",
   "metadata": {},
   "outputs": [
    {
     "data": {
      "text/plain": [
       "<torch._C.Generator at 0x7f0f81176910>"
      ]
     },
     "execution_count": 10,
     "metadata": {},
     "output_type": "execute_result"
    }
   ],
   "source": [
    "random_seed = 42\n",
    "torch.manual_seed(random_seed)"
   ]
  },
  {
   "cell_type": "code",
   "execution_count": 11,
   "id": "612cb45e",
   "metadata": {},
   "outputs": [],
   "source": [
    "validation_split = 0.3\n",
    "val_size = int(len(dataset) * validation_split)\n",
    "train_size = len(dataset) - val_size\n",
    "\n",
    "train_ds,val_ds = random_split(dataset,[train_size,val_size])"
   ]
  },
  {
   "cell_type": "code",
   "execution_count": 12,
   "id": "ccecf79c",
   "metadata": {},
   "outputs": [],
   "source": [
    "batch_size = 64\n",
    "\n",
    "train_loader = DataLoader(train_ds,batch_size=batch_size,num_workers=2,shuffle=True, pin_memory=True)\n",
    "val_loader = DataLoader(val_ds,batch_size=batch_size,num_workers=2,shuffle=True, pin_memory=True)\n",
    "test_loader = DataLoader(test_ds,batch_size=batch_size,num_workers=2,shuffle=True, pin_memory=True)"
   ]
  },
  {
   "cell_type": "code",
   "execution_count": 13,
   "id": "21344d6e",
   "metadata": {},
   "outputs": [],
   "source": [
    "\n",
    "class ImageClassificationBase(nn.Module):\n",
    "    def accuracy(self, outputs, labels):\n",
    "      _, preds = torch.max(outputs, dim=1)\n",
    "      return torch.tensor(torch.sum(preds == labels).item() / len(preds))\n",
    "    \n",
    "    def training_step(self,batch):\n",
    "        images,labels = batch\n",
    "        out = self(images)\n",
    "        loss = F.cross_entropy(out,labels)\n",
    "        return loss\n",
    "    \n",
    "    def validation_step(self,batch):\n",
    "        images,labels = batch\n",
    "        out = self(images)\n",
    "        loss = F.cross_entropy(out,labels)\n",
    "        acc = self.accuracy(out,labels)\n",
    "        return {'val_loss':loss,'val_acc':acc}\n",
    "    \n",
    "    def validation_epoch_end(self,outputs):\n",
    "        batch_loss = [out['val_loss'] for out in outputs]\n",
    "        epoch_loss = torch.stack(batch_loss).mean()\n",
    "        batch_acc = [out['val_acc'] for out in outputs]\n",
    "        epoch_acc = torch.stack(batch_acc).mean()\n",
    "        return {'val_loss':epoch_loss.item(),'val_acc':epoch_acc.item()}\n",
    "    \n",
    "    def epoch_end(self,epoch,result):\n",
    "        print(\"Epoch [{}], train_loss: {:.4f}, val_loss: {:.4f}, val_acc: {:.4f}\".format(epoch, result['train_loss'], result['val_loss'], result['val_acc']))"
   ]
  },
  {
   "cell_type": "code",
   "execution_count": 18,
   "id": "7282eb69",
   "metadata": {},
   "outputs": [],
   "source": [
    "class Plant_Disease_Model2(ImageClassificationBase):\n",
    "  \n",
    "  def __init__(self):\n",
    "    super().__init__()\n",
    "    self.network = models.resnet34(pretrained=True)\n",
    "    num_ftrs = self.network.fc.in_features\n",
    "    self.network.fc = nn.Linear(num_ftrs, 28)\n",
    "    \n",
    "  def forward(self,xb):\n",
    "    out = self.network(xb)\n",
    "    return out"
   ]
  },
  {
   "cell_type": "code",
   "execution_count": 16,
   "id": "5bcfc995",
   "metadata": {},
   "outputs": [],
   "source": [
    "@torch.no_grad()\n",
    "def evaluate(model,val_loader):\n",
    "  model.eval()\n",
    "  outputs = [model.validation_step(batch) for batch in val_loader]\n",
    "  return model.validation_epoch_end(outputs)"
   ]
  },
  {
   "cell_type": "code",
   "execution_count": 17,
   "id": "ddc1e2b9",
   "metadata": {},
   "outputs": [],
   "source": [
    "def fit(epochs, lr, model, train_loader, val_loader, opt_func=torch.optim.SGD):\n",
    "  history = []\n",
    "  optimizer = opt_func(model.parameters(), lr)\n",
    "  for epoch in range(epochs):\n",
    "    model.train()\n",
    "    train_losses = []\n",
    "    for batch in tqdm(train_loader):\n",
    "      loss = model.training_step(batch)\n",
    "      train_losses.append(loss)\n",
    "      loss.backward()\n",
    "      optimizer.step()\n",
    "      optimizer.zero_grad()\n",
    "    result = evaluate(model, val_loader)\n",
    "    result['train_loss'] = torch.stack(train_losses).mean().item()\n",
    "    model.epoch_end(epoch, result)\n",
    "    history.append(result)\n",
    "  return history"
   ]
  },
  {
   "cell_type": "code",
   "execution_count": 19,
   "id": "850abb12",
   "metadata": {},
   "outputs": [],
   "source": [
    "def get_default_device():\n",
    "    \"\"\"Pick GPU if available, else CPU\"\"\"\n",
    "    if torch.cuda.is_available():\n",
    "        return torch.device('cuda')\n",
    "    else:\n",
    "        return torch.device('cpu')\n",
    "    \n",
    "def to_device(data, device):\n",
    "    \"\"\"Move tensor(s) to chosen device\"\"\"\n",
    "    if isinstance(data, (list,tuple)):\n",
    "        return [to_device(x, device) for x in data]\n",
    "    return data.to(device, non_blocking=True)\n",
    "\n",
    "class DeviceDataLoader():\n",
    "    \"\"\"Wrap a dataloader to move data to a device\"\"\"\n",
    "    def __init__(self, dl, device):\n",
    "        self.dl = dl\n",
    "        self.device = device\n",
    "        \n",
    "    def __iter__(self):\n",
    "        \"\"\"Yield a batch of data after moving it to device\"\"\"\n",
    "        for b in self.dl: \n",
    "            yield to_device(b, self.device)\n",
    "\n",
    "    def __len__(self):\n",
    "        \"\"\"Number of batches\"\"\"\n",
    "        return len(self.dl)"
   ]
  },
  {
   "cell_type": "code",
   "execution_count": 20,
   "id": "e701a32e",
   "metadata": {},
   "outputs": [
    {
     "data": {
      "text/plain": [
       "device(type='cuda')"
      ]
     },
     "execution_count": 20,
     "metadata": {},
     "output_type": "execute_result"
    }
   ],
   "source": [
    "device = get_default_device()\n",
    "device"
   ]
  },
  {
   "cell_type": "code",
   "execution_count": 21,
   "id": "ab958d05",
   "metadata": {},
   "outputs": [],
   "source": [
    "train_loader = DeviceDataLoader(train_loader, device)\n",
    "val_loader = DeviceDataLoader(val_loader, device)\n",
    "test_loader = DeviceDataLoader(test_loader, device)"
   ]
  },
  {
   "cell_type": "code",
   "execution_count": 22,
   "id": "508cd3f5",
   "metadata": {},
   "outputs": [
    {
     "name": "stderr",
     "output_type": "stream",
     "text": [
      "Downloading: \"https://download.pytorch.org/models/resnet34-b627a593.pth\" to /aiffel/.cache/torch/hub/checkpoints/resnet34-b627a593.pth\n"
     ]
    },
    {
     "data": {
      "application/vnd.jupyter.widget-view+json": {
       "model_id": "731a0e18348749468a83c1125c8d4d74",
       "version_major": 2,
       "version_minor": 0
      },
      "text/plain": [
       "  0%|          | 0.00/83.3M [00:00<?, ?B/s]"
      ]
     },
     "metadata": {},
     "output_type": "display_data"
    }
   ],
   "source": [
    "model = to_device(Plant_Disease_Model2(), device)"
   ]
  },
  {
   "cell_type": "code",
   "execution_count": 23,
   "id": "991e9563",
   "metadata": {},
   "outputs": [],
   "source": [
    "import torch\n",
    "from torch import nn\n",
    "from torch.utils.data import DataLoader\n",
    "\n",
    "def calculate_accuracy(outputs, targets):\n",
    "    _, predicted = torch.max(outputs, 1)\n",
    "    correct = (predicted == targets).sum().item()\n",
    "    total = targets.size(0)\n",
    "    accuracy = correct / total\n",
    "    return accuracy\n",
    "\n",
    "def fit_with_early_stopping(epochs, learning_rate, model, train_loader, val_loader, opt_func=torch.optim.Adam, patience=3):\n",
    "    device = torch.device('cuda' if torch.cuda.is_available() else 'cpu')\n",
    "    \n",
    "    model.to(device)\n",
    "    \n",
    "    optimizer = opt_func(model.parameters(), lr=learning_rate)\n",
    "    criterion = nn.CrossEntropyLoss()\n",
    "    \n",
    "    best_val_loss = float('inf')\n",
    "    counter = 0  # 개선이 없는 에포크 수를 세는 변수\n",
    "    \n",
    "    history = {'train_loss': [], 'train_accuracy': [], 'val_loss': [], 'val_accuracy': []}\n",
    "    \n",
    "    for epoch in range(epochs):\n",
    "        # 학습 단계\n",
    "        model.train()\n",
    "        train_loss = 0.0\n",
    "        correct_train = 0\n",
    "        total_train = 0\n",
    "        for inputs, targets in train_loader:\n",
    "            inputs, targets = inputs.to(device), targets.to(device)\n",
    "            optimizer.zero_grad()\n",
    "            outputs = model(inputs)\n",
    "            loss = criterion(outputs, targets)\n",
    "            loss.backward()\n",
    "            optimizer.step()\n",
    "            \n",
    "            train_loss += loss.item()\n",
    "            total_train += targets.size(0)\n",
    "            correct_train += (outputs.argmax(dim=1) == targets).sum().item()\n",
    "        \n",
    "        train_loss /= len(train_loader)\n",
    "        train_accuracy = correct_train / total_train\n",
    "        history['train_loss'].append(train_loss)\n",
    "        history['train_accuracy'].append(train_accuracy)\n",
    "        \n",
    "        # 검증 단계\n",
    "        model.eval()\n",
    "        val_loss = 0.0\n",
    "        correct_val = 0\n",
    "        total_val = 0\n",
    "        with torch.no_grad():\n",
    "            for inputs, targets in val_loader:\n",
    "                inputs, targets = inputs.to(device), targets.to(device)\n",
    "                outputs = model(inputs)\n",
    "                loss = criterion(outputs, targets)\n",
    "                \n",
    "                val_loss += loss.item()\n",
    "                total_val += targets.size(0)\n",
    "                correct_val += (outputs.argmax(dim=1) == targets).sum().item()\n",
    "\n",
    "        val_loss /= len(val_loader)\n",
    "        val_accuracy = correct_val / total_val\n",
    "        history['val_loss'].append(val_loss)\n",
    "        history['val_accuracy'].append(val_accuracy)\n",
    "        print(f'Epoch {epoch+1}/{epochs}, Training Loss: {train_loss}, Training Accuracy: {train_accuracy}, Validation Loss: {val_loss}, Validation Accuracy: {val_accuracy}')\n",
    "\n",
    "        # Early stopping 체크\n",
    "        if val_loss < best_val_loss:\n",
    "            best_val_loss = val_loss\n",
    "            counter = 0\n",
    "        else:\n",
    "            counter += 1\n",
    "            if counter >= patience:\n",
    "                print(f'Early stopping after {epoch+1} epochs.')\n",
    "                break\n",
    "    \n",
    "    print('Training complete.')\n",
    "    return history\n"
   ]
  },
  {
   "cell_type": "code",
   "execution_count": 24,
   "id": "b0169a72",
   "metadata": {},
   "outputs": [
    {
     "name": "stdout",
     "output_type": "stream",
     "text": [
      "Epoch 1/100, Training Loss: 0.35465148080027464, Training Accuracy: 0.8862123678625152, Validation Loss: 0.2115609227350125, Validation Accuracy: 0.9285989037407443\n",
      "Epoch 2/100, Training Loss: 0.15961271589462386, Training Accuracy: 0.9452904448886233, Validation Loss: 0.586082199215889, Validation Accuracy: 0.8345513991729974\n",
      "Epoch 3/100, Training Loss: 0.11146612087576326, Training Accuracy: 0.9618578581878876, Validation Loss: 0.3000714748753951, Validation Accuracy: 0.9122992595441869\n",
      "Epoch 4/100, Training Loss: 0.09103464374192334, Training Accuracy: 0.9696264089513487, Validation Loss: 0.19497436758990472, Validation Accuracy: 0.9394653332051158\n",
      "Epoch 5/100, Training Loss: 0.07145766155151294, Training Accuracy: 0.9760349481753179, Validation Loss: 0.1412180093324815, Validation Accuracy: 0.9531685739013367\n",
      "Epoch 6/100, Training Loss: 0.06313716443620587, Training Accuracy: 0.9787549712543016, Validation Loss: 0.12228676597659405, Validation Accuracy: 0.9613905183190692\n",
      "Epoch 7/100, Training Loss: 0.051375006429687856, Training Accuracy: 0.9829174308145645, Validation Loss: 0.1383685185144154, Validation Accuracy: 0.9574478315222618\n",
      "Epoch 8/100, Training Loss: 0.04977976800290265, Training Accuracy: 0.9831647056399266, Validation Loss: 0.13272860198066785, Validation Accuracy: 0.9592749302817578\n",
      "Epoch 9/100, Training Loss: 0.03265867175278837, Training Accuracy: 0.9892641513321931, Validation Loss: 0.11732542650281595, Validation Accuracy: 0.9648043081065487\n",
      "Epoch 10/100, Training Loss: 0.02942350189477924, Training Accuracy: 0.9902738568690885, Validation Loss: 0.1648206465304471, Validation Accuracy: 0.955284161938648\n",
      "Epoch 11/100, Training Loss: 0.028069856660366942, Training Accuracy: 0.991015681345175, Validation Loss: 0.14020725039514498, Validation Accuracy: 0.9614866814116741\n",
      "Epoch 12/100, Training Loss: 0.02249669488316777, Training Accuracy: 0.9928908487708381, Validation Loss: 0.1668392252499381, Validation Accuracy: 0.9530724108087316\n",
      "Epoch 13/100, Training Loss: 0.027576539032960343, Training Accuracy: 0.9914484122895588, Validation Loss: 0.20074177663056897, Validation Accuracy: 0.9520626983363785\n",
      "Epoch 14/100, Training Loss: 0.01855689911374639, Training Accuracy: 0.9941478291330956, Validation Loss: 0.12477000467201624, Validation Accuracy: 0.969564381190499\n",
      "Early stopping after 14 epochs.\n",
      "Training complete.\n"
     ]
    }
   ],
   "source": [
    "history = fit_with_early_stopping(epochs=100, learning_rate=0.001, model=model, train_loader=train_loader, val_loader=val_loader, opt_func=torch.optim.Adam, patience=5)\n"
   ]
  },
  {
   "cell_type": "code",
   "execution_count": 25,
   "id": "19db4327",
   "metadata": {},
   "outputs": [
    {
     "data": {
      "text/plain": [
       "{'train_loss': [0.35465148080027464,\n",
       "  0.15961271589462386,\n",
       "  0.11146612087576326,\n",
       "  0.09103464374192334,\n",
       "  0.07145766155151294,\n",
       "  0.06313716443620587,\n",
       "  0.051375006429687856,\n",
       "  0.04977976800290265,\n",
       "  0.03265867175278837,\n",
       "  0.02942350189477924,\n",
       "  0.028069856660366942,\n",
       "  0.02249669488316777,\n",
       "  0.027576539032960343,\n",
       "  0.01855689911374639],\n",
       " 'train_accuracy': [0.8862123678625152,\n",
       "  0.9452904448886233,\n",
       "  0.9618578581878876,\n",
       "  0.9696264089513487,\n",
       "  0.9760349481753179,\n",
       "  0.9787549712543016,\n",
       "  0.9829174308145645,\n",
       "  0.9831647056399266,\n",
       "  0.9892641513321931,\n",
       "  0.9902738568690885,\n",
       "  0.991015681345175,\n",
       "  0.9928908487708381,\n",
       "  0.9914484122895588,\n",
       "  0.9941478291330956],\n",
       " 'val_loss': [0.2115609227350125,\n",
       "  0.586082199215889,\n",
       "  0.3000714748753951,\n",
       "  0.19497436758990472,\n",
       "  0.1412180093324815,\n",
       "  0.12228676597659405,\n",
       "  0.1383685185144154,\n",
       "  0.13272860198066785,\n",
       "  0.11732542650281595,\n",
       "  0.1648206465304471,\n",
       "  0.14020725039514498,\n",
       "  0.1668392252499381,\n",
       "  0.20074177663056897,\n",
       "  0.12477000467201624],\n",
       " 'val_accuracy': [0.9285989037407443,\n",
       "  0.8345513991729974,\n",
       "  0.9122992595441869,\n",
       "  0.9394653332051158,\n",
       "  0.9531685739013367,\n",
       "  0.9613905183190692,\n",
       "  0.9574478315222618,\n",
       "  0.9592749302817578,\n",
       "  0.9648043081065487,\n",
       "  0.955284161938648,\n",
       "  0.9614866814116741,\n",
       "  0.9530724108087316,\n",
       "  0.9520626983363785,\n",
       "  0.969564381190499]}"
      ]
     },
     "execution_count": 25,
     "metadata": {},
     "output_type": "execute_result"
    }
   ],
   "source": [
    "history"
   ]
  },
  {
   "cell_type": "code",
   "execution_count": 26,
   "id": "4a424895",
   "metadata": {},
   "outputs": [
    {
     "data": {
      "text/plain": [
       "{'val_loss': 0.12478511780500412, 'val_acc': 0.9695641994476318}"
      ]
     },
     "execution_count": 26,
     "metadata": {},
     "output_type": "execute_result"
    }
   ],
   "source": [
    "evaluate(model,val_loader)"
   ]
  },
  {
   "cell_type": "code",
   "execution_count": 27,
   "id": "5ecfbff0",
   "metadata": {},
   "outputs": [],
   "source": [
    "torch.save(model.state_dict(), 's3_disease_class.pth')"
   ]
  },
  {
   "cell_type": "code",
   "execution_count": 28,
   "id": "9df489c0",
   "metadata": {},
   "outputs": [],
   "source": [
    "scripted_model = torch.jit.script(model)\n",
    "scripted_model.save(\"model_v1_scripted.pth\")"
   ]
  },
  {
   "cell_type": "code",
   "execution_count": 29,
   "id": "84174790",
   "metadata": {},
   "outputs": [],
   "source": [
    "import pandas as pd\n",
    "\n",
    "def save_history_to_csv(history, csv_file):\n",
    "    df = pd.DataFrame({\n",
    "        'Epoch': range(1, len(history['train_loss']) + 1),\n",
    "        'Train Loss': history['train_loss'],\n",
    "        'Train Accuracy': history['train_accuracy'],\n",
    "        'Val Loss': history['val_loss'],\n",
    "        'Val Accuracy': history['val_accuracy']\n",
    "    })\n",
    "    df.to_csv(csv_file, sep='\\t', index=False)\n",
    "\n",
    "# Usage"
   ]
  },
  {
   "cell_type": "code",
   "execution_count": 30,
   "id": "8c437bf7",
   "metadata": {},
   "outputs": [],
   "source": [
    "save_history_to_csv(history, 'training_history.csv')\n"
   ]
  },
  {
   "cell_type": "code",
   "execution_count": 31,
   "id": "5bb5cc94",
   "metadata": {},
   "outputs": [
    {
     "data": {
      "image/png": "[encoded data removed]",
      "text/plain": [
       "<Figure size 864x432 with 2 Axes>"
      ]
     },
     "metadata": {
      "needs_background": "light"
     },
     "output_type": "display_data"
    }
   ],
   "source": [
    "import matplotlib.pyplot as plt\n",
    "\n",
    "def plot_training_history(history, save_plot_path=None):\n",
    "    epochs = range(1, len(history['train_loss']) + 1)\n",
    "\n",
    "    # Plotting Loss\n",
    "    plt.figure(figsize=(12, 6))\n",
    "    plt.subplot(1, 2, 1)\n",
    "    plt.plot(epochs, history['train_loss'], label='Training Loss')\n",
    "    plt.plot(epochs, history['val_loss'], label='Validation Loss')\n",
    "    plt.title('Training and Validation Loss')\n",
    "    plt.xlabel('Epoch')\n",
    "    plt.ylabel('Loss')\n",
    "    plt.legend()\n",
    "\n",
    "    # Plotting Accuracy\n",
    "    plt.subplot(1, 2, 2)\n",
    "    plt.plot(epochs, history['train_accuracy'], label='Training Accuracy')\n",
    "    plt.plot(epochs, history['val_accuracy'], label='Validation Accuracy')\n",
    "    plt.title('Training and Validation Accuracy')\n",
    "    plt.xlabel('Epoch')\n",
    "    plt.ylabel('Accuracy')\n",
    "    plt.legend()\n",
    "\n",
    "    plt.tight_layout()\n",
    "\n",
    "    # Save or Show Plot\n",
    "    if save_plot_path:\n",
    "        plt.savefig(save_plot_path)\n",
    "    else:\n",
    "        plt.show()\n",
    "\n",
    "# Usage\n",
    "plot_training_history(history, save_plot_path='training_history_plot.png')\n"
   ]
  },
  {
   "cell_type": "code",
   "execution_count": null,
   "id": "e183bf11",
   "metadata": {},
   "outputs": [],
   "source": []
  }
 ],
 "metadata": {
  "kernelspec": {
   "display_name": "Python 3 (ipykernel)",
   "language": "python",
   "name": "python3"
  },
  "language_info": {
   "codemirror_mode": {
    "name": "ipython",
    "version": 3
   },
   "file_extension": ".py",
   "mimetype": "text/x-python",
   "name": "python",
   "nbconvert_exporter": "python",
   "pygments_lexer": "ipython3",
   "version": "3.9.7"
  }
 },
 "nbformat": 4,
 "nbformat_minor": 5
}

{
 "cells": [
  {
   "cell_type": "code",
   "execution_count": 1,
   "id": "3b7ab88d",
   "metadata": {},
   "outputs": [],
   "source": [
    "import numpy as np\n",
    "import pandas as pd\n",
    "import os\n",
    "import matplotlib.pyplot as plt\n",
    "import torch\n",
    "import torch.nn as nn\n",
    "import torch.nn.functional as F\n",
    "from torch.utils.data import DataLoader,random_split,TensorDataset\n",
    "from torchvision.utils import make_grid\n",
    "from torchvision.transforms import ToTensor\n",
    "from torchvision.datasets import ImageFolder\n",
    "import torchvision.transforms as transforms\n",
    "import torchvision.models as models\n",
    "import torchvision\n",
    "import matplotlib\n",
    "from tqdm.notebook import tqdm"
   ]
  },
  {
   "cell_type": "code",
   "execution_count": 2,
   "id": "7cb1c5c5",
   "metadata": {},
   "outputs": [
    {
     "name": "stdout",
     "output_type": "stream",
     "text": [
      "DATA.zip  ImageNet.zip  S1_Binary.ipynb  \u001b[0m\u001b[01;34mS1_data\u001b[0m/\r\n"
     ]
    }
   ],
   "source": [
    "ls"
   ]
  },
  {
   "cell_type": "code",
   "execution_count": 3,
   "id": "6b45098d",
   "metadata": {},
   "outputs": [
    {
     "data": {
      "text/plain": [
       "2"
      ]
     },
     "execution_count": 3,
     "metadata": {},
     "output_type": "execute_result"
    }
   ],
   "source": [
    "data ='./S1_data'\n",
    "os.listdir(data)\n",
    "len(os.listdir(data))"
   ]
  },
  {
   "cell_type": "code",
   "execution_count": 4,
   "id": "12809c2c",
   "metadata": {
    "scrolled": true
   },
   "outputs": [
    {
     "name": "stdout",
     "output_type": "stream",
     "text": [
      "Number of Unique Plants:  2\n",
      "Unique Plants:  ['nonplant', 'plant']\n"
     ]
    }
   ],
   "source": [
    "unique_plants = []\n",
    "cl = os.listdir('./S1_data')\n",
    "for i in cl:\n",
    "    x = i.split('__')\n",
    "    if x[0] not in unique_plants:\n",
    "        unique_plants.append(x[0])\n",
    "print(\"Number of Unique Plants: \",len(unique_plants))\n",
    "print(\"Unique Plants: \",unique_plants)"
   ]
  },
  {
   "cell_type": "code",
   "execution_count": 5,
   "id": "6a11b8a1",
   "metadata": {},
   "outputs": [],
   "source": [
    "transform = transforms.Compose(\n",
    "    [transforms.Resize(size = 128),\n",
    "     transforms.ToTensor()])"
   ]
  },
  {
   "cell_type": "code",
   "execution_count": 6,
   "id": "e8edc494",
   "metadata": {},
   "outputs": [],
   "source": [
    "dataset = ImageFolder(data,transform=transform)\n",
    "test_ds = ImageFolder(data,transform=transform)"
   ]
  },
  {
   "cell_type": "code",
   "execution_count": 7,
   "id": "08b63677",
   "metadata": {},
   "outputs": [
    {
     "name": "stdout",
     "output_type": "stream",
     "text": [
      "Number of training images:  7394\n",
      "Number of testing images:  7394\n"
     ]
    }
   ],
   "source": [
    "print(\"Number of training images: \",len(dataset))\n",
    "print(\"Number of testing images: \",len(test_ds))"
   ]
  },
  {
   "cell_type": "code",
   "execution_count": 8,
   "id": "387e723f",
   "metadata": {},
   "outputs": [
    {
     "name": "stdout",
     "output_type": "stream",
     "text": [
      "Number of classes:  2\n",
      "['nonplant', 'plant']\n"
     ]
    }
   ],
   "source": [
    "num_classes = dataset.classes\n",
    "print(\"Number of classes: \",len(num_classes))\n",
    "print(num_classes)"
   ]
  },
  {
   "cell_type": "code",
   "execution_count": 9,
   "id": "96626a6c",
   "metadata": {},
   "outputs": [
    {
     "data": {
      "text/plain": [
       "<torch._C.Generator at 0x7f877492a630>"
      ]
     },
     "execution_count": 9,
     "metadata": {},
     "output_type": "execute_result"
    }
   ],
   "source": [
    "random_seed = 42\n",
    "torch.manual_seed(random_seed)"
   ]
  },
  {
   "cell_type": "code",
   "execution_count": 10,
   "id": "e5104511",
   "metadata": {},
   "outputs": [],
   "source": [
    "validation_split = 0.3\n",
    "val_size = int(len(dataset) * validation_split)\n",
    "train_size = len(dataset) - val_size\n",
    "\n",
    "train_ds,val_ds = random_split(dataset,[train_size,val_size])"
   ]
  },
  {
   "cell_type": "code",
   "execution_count": 11,
   "id": "75199853",
   "metadata": {},
   "outputs": [],
   "source": [
    "batch_size = 64\n",
    "\n",
    "train_loader = DataLoader(train_ds,batch_size=batch_size,num_workers=2,shuffle=True, pin_memory=True)\n",
    "val_loader = DataLoader(val_ds,batch_size=batch_size,num_workers=2,shuffle=True, pin_memory=True)\n",
    "test_loader = DataLoader(test_ds,batch_size=batch_size,num_workers=2,shuffle=True, pin_memory=True)"
   ]
  },
  {
   "cell_type": "code",
   "execution_count": 12,
   "id": "dd0d69da",
   "metadata": {},
   "outputs": [],
   "source": [
    "\n",
    "class ImageClassificationBase(nn.Module):\n",
    "    def accuracy(self, outputs, labels):\n",
    "      _, preds = torch.max(outputs, dim=1)\n",
    "      return torch.tensor(torch.sum(preds == labels).item() / len(preds))\n",
    "    \n",
    "    def training_step(self,batch):\n",
    "        images,labels = batch\n",
    "        out = self(images)\n",
    "        loss = F.cross_entropy(out,labels)\n",
    "        return loss\n",
    "    \n",
    "    def validation_step(self,batch):\n",
    "        images,labels = batch\n",
    "        out = self(images)\n",
    "        loss = F.cross_entropy(out,labels)\n",
    "        acc = self.accuracy(out,labels)\n",
    "        return {'val_loss':loss,'val_acc':acc}\n",
    "    \n",
    "    def validation_epoch_end(self,outputs):\n",
    "        batch_loss = [out['val_loss'] for out in outputs]\n",
    "        epoch_loss = torch.stack(batch_loss).mean()\n",
    "        batch_acc = [out['val_acc'] for out in outputs]\n",
    "        epoch_acc = torch.stack(batch_acc).mean()\n",
    "        return {'val_loss':epoch_loss.item(),'val_acc':epoch_acc.item()}\n",
    "    \n",
    "    def epoch_end(self,epoch,result):\n",
    "        print(\"Epoch [{}], train_loss: {:.4f}, val_loss: {:.4f}, val_acc: {:.4f}\".format(epoch, result['train_loss'], result['val_loss'], result['val_acc']))"
   ]
  },
  {
   "cell_type": "code",
   "execution_count": 13,
   "id": "e4a770ed",
   "metadata": {},
   "outputs": [],
   "source": [
    "class Plant_Disease_Model(ImageClassificationBase):\n",
    "  \n",
    "  def __init__(self):\n",
    "    super().__init__()\n",
    "    self.network = nn.Sequential(\n",
    "        nn.Conv2d(3,32,kernel_size=3,stride=1,padding=1),\n",
    "        nn.ReLU(),\n",
    "        nn.Conv2d(32,64,kernel_size=3,stride=1,padding=1),\n",
    "        nn.ReLU(),\n",
    "        nn.MaxPool2d(2,2), #output : 64*64*64\n",
    "\n",
    "        nn.Conv2d(64,64,kernel_size=3,stride=1,padding=1),\n",
    "        nn.ReLU(),\n",
    "        nn.Conv2d(64,128,kernel_size=3,stride=1,padding=1),\n",
    "        nn.ReLU(),\n",
    "        nn.MaxPool2d(2,2), #output : 128*32*32\n",
    "\n",
    "        nn.Conv2d(128,128,kernel_size=3,stride=1,padding=1),\n",
    "        nn.ReLU(),\n",
    "        nn.Conv2d(128,256,kernel_size=3,stride=1,padding=1),\n",
    "        nn.ReLU(),\n",
    "        nn.MaxPool2d(2,2), #output : 256*16*16\n",
    "        \n",
    "        nn.Conv2d(256,256,kernel_size=3,stride=1,padding=1),\n",
    "        nn.ReLU(),\n",
    "        nn.Conv2d(256,512,kernel_size=3,stride=1,padding=1),\n",
    "        nn.ReLU(),\n",
    "        nn.MaxPool2d(2,2), #output : 512*8*8\n",
    "        \n",
    "        nn.Conv2d(512,512,kernel_size=3,stride=1,padding=1),\n",
    "        nn.ReLU(),\n",
    "        nn.Conv2d(512,1024,kernel_size=3,stride=1,padding=1),\n",
    "        nn.ReLU(),\n",
    "        nn.MaxPool2d(2,2), #output : 1024*4*4\n",
    "        nn.AdaptiveAvgPool2d(1),\n",
    "        \n",
    "        nn.Flatten(),\n",
    "        nn.Linear(1024,512),\n",
    "        nn.ReLU(),\n",
    "        nn.Linear(512,256),\n",
    "        nn.ReLU(),\n",
    "        nn.Linear(256,2)\n",
    "        )\n",
    "    \n",
    "  def forward(self,xb):\n",
    "    out = self.network(xb)\n",
    "    return out"
   ]
  },
  {
   "cell_type": "code",
   "execution_count": 14,
   "id": "a2ac4b57",
   "metadata": {},
   "outputs": [],
   "source": [
    "@torch.no_grad()\n",
    "def evaluate(model,val_loader):\n",
    "  model.eval()\n",
    "  outputs = [model.validation_step(batch) for batch in val_loader]\n",
    "  return model.validation_epoch_end(outputs)"
   ]
  },
  {
   "cell_type": "code",
   "execution_count": 15,
   "id": "4379e694",
   "metadata": {},
   "outputs": [],
   "source": [
    "def fit(epochs, lr, model, train_loader, val_loader, opt_func=torch.optim.SGD):\n",
    "  history = []\n",
    "  optimizer = opt_func(model.parameters(), lr)\n",
    "  for epoch in range(epochs):\n",
    "    model.train()\n",
    "    train_losses = []\n",
    "    for batch in tqdm(train_loader):\n",
    "      loss = model.training_step(batch)\n",
    "      train_losses.append(loss)\n",
    "      loss.backward()\n",
    "      optimizer.step()\n",
    "      optimizer.zero_grad()\n",
    "    result = evaluate(model, val_loader)\n",
    "    result['train_loss'] = torch.stack(train_losses).mean().item()\n",
    "    model.epoch_end(epoch, result)\n",
    "    history.append(result)\n",
    "  return history"
   ]
  },
  {
   "cell_type": "code",
   "execution_count": 16,
   "id": "d962e158",
   "metadata": {},
   "outputs": [],
   "source": [
    "def get_default_device():\n",
    "    \"\"\"Pick GPU if available, else CPU\"\"\"\n",
    "    if torch.cuda.is_available():\n",
    "        return torch.device('cuda')\n",
    "    else:\n",
    "        return torch.device('cpu')\n",
    "    \n",
    "def to_device(data, device):\n",
    "    \"\"\"Move tensor(s) to chosen device\"\"\"\n",
    "    if isinstance(data, (list,tuple)):\n",
    "        return [to_device(x, device) for x in data]\n",
    "    return data.to(device, non_blocking=True)\n",
    "\n",
    "class DeviceDataLoader():\n",
    "    \"\"\"Wrap a dataloader to move data to a device\"\"\"\n",
    "    def __init__(self, dl, device):\n",
    "        self.dl = dl\n",
    "        self.device = device\n",
    "        \n",
    "    def __iter__(self):\n",
    "        \"\"\"Yield a batch of data after moving it to device\"\"\"\n",
    "        for b in self.dl: \n",
    "            yield to_device(b, self.device)\n",
    "\n",
    "    def __len__(self):\n",
    "        \"\"\"Number of batches\"\"\"\n",
    "        return len(self.dl)"
   ]
  },
  {
   "cell_type": "code",
   "execution_count": 17,
   "id": "68d44cab",
   "metadata": {},
   "outputs": [
    {
     "data": {
      "text/plain": [
       "device(type='cuda')"
      ]
     },
     "execution_count": 17,
     "metadata": {},
     "output_type": "execute_result"
    }
   ],
   "source": [
    "device = get_default_device()\n",
    "device"
   ]
  },
  {
   "cell_type": "code",
   "execution_count": 18,
   "id": "775faead",
   "metadata": {},
   "outputs": [],
   "source": [
    "train_loader = DeviceDataLoader(train_loader, device)\n",
    "val_loader = DeviceDataLoader(val_loader, device)\n",
    "test_loader = DeviceDataLoader(test_loader, device)"
   ]
  },
  {
   "cell_type": "code",
   "execution_count": 19,
   "id": "56a5b7d7",
   "metadata": {},
   "outputs": [],
   "source": [
    "model = to_device(Plant_Disease_Model(), device)"
   ]
  },
  {
   "cell_type": "code",
   "execution_count": 20,
   "id": "d3a93045",
   "metadata": {},
   "outputs": [],
   "source": [
    "import torch\n",
    "from torch import nn\n",
    "from torch.utils.data import DataLoader\n",
    "\n",
    "def calculate_accuracy(outputs, targets):\n",
    "    _, predicted = torch.max(outputs, 1)\n",
    "    correct = (predicted == targets).sum().item()\n",
    "    total = targets.size(0)\n",
    "    accuracy = correct / total\n",
    "    return accuracy\n",
    "\n",
    "def fit_with_early_stopping(epochs, learning_rate, model, train_loader, val_loader, opt_func=torch.optim.Adam, patience=3):\n",
    "    device = torch.device('cuda' if torch.cuda.is_available() else 'cpu')\n",
    "    \n",
    "    model.to(device)\n",
    "    \n",
    "    optimizer = opt_func(model.parameters(), lr=learning_rate)\n",
    "    criterion = nn.CrossEntropyLoss()\n",
    "    \n",
    "    best_val_loss = float('inf')\n",
    "    counter = 0  # 개선이 없는 에포크 수를 세는 변수\n",
    "    \n",
    "    history = {'train_loss': [], 'train_accuracy': [], 'val_loss': [], 'val_accuracy': []}\n",
    "    \n",
    "    for epoch in range(epochs):\n",
    "        # 학습 단계\n",
    "        model.train()\n",
    "        train_loss = 0.0\n",
    "        correct_train = 0\n",
    "        total_train = 0\n",
    "        for inputs, targets in train_loader:\n",
    "            inputs, targets = inputs.to(device), targets.to(device)\n",
    "            optimizer.zero_grad()\n",
    "            outputs = model(inputs)\n",
    "            loss = criterion(outputs, targets)\n",
    "            loss.backward()\n",
    "            optimizer.step()\n",
    "            \n",
    "            train_loss += loss.item()\n",
    "            total_train += targets.size(0)\n",
    "            correct_train += (outputs.argmax(dim=1) == targets).sum().item()\n",
    "        \n",
    "        train_loss /= len(train_loader)\n",
    "        train_accuracy = correct_train / total_train\n",
    "        history['train_loss'].append(train_loss)\n",
    "        history['train_accuracy'].append(train_accuracy)\n",
    "        \n",
    "        # 검증 단계\n",
    "        model.eval()\n",
    "        val_loss = 0.0\n",
    "        correct_val = 0\n",
    "        total_val = 0\n",
    "        with torch.no_grad():\n",
    "            for inputs, targets in val_loader:\n",
    "                inputs, targets = inputs.to(device), targets.to(device)\n",
    "                outputs = model(inputs)\n",
    "                loss = criterion(outputs, targets)\n",
    "                \n",
    "                val_loss += loss.item()\n",
    "                total_val += targets.size(0)\n",
    "                correct_val += (outputs.argmax(dim=1) == targets).sum().item()\n",
    "\n",
    "        val_loss /= len(val_loader)\n",
    "        val_accuracy = correct_val / total_val\n",
    "        history['val_loss'].append(val_loss)\n",
    "        history['val_accuracy'].append(val_accuracy)\n",
    "        print(f'Epoch {epoch+1}/{epochs}, Training Loss: {train_loss}, Training Accuracy: {train_accuracy}, Validation Loss: {val_loss}, Validation Accuracy: {val_accuracy}')\n",
    "\n",
    "        # Early stopping 체크\n",
    "        if val_loss < best_val_loss:\n",
    "            best_val_loss = val_loss\n",
    "            counter = 0\n",
    "        else:\n",
    "            counter += 1\n",
    "            if counter >= patience:\n",
    "                print(f'Early stopping after {epoch+1} epochs.')\n",
    "                break\n",
    "    \n",
    "    print('Training complete.')\n",
    "    return history\n"
   ]
  },
  {
   "cell_type": "code",
   "execution_count": 21,
   "id": "6ad90d62",
   "metadata": {
    "scrolled": false
   },
   "outputs": [
    {
     "name": "stdout",
     "output_type": "stream",
     "text": [
      "Epoch 1/100, Training Loss: 0.6911682236341783, Training Accuracy: 0.5255023183925811, Validation Loss: 0.6802944285529, Validation Accuracy: 0.6880072137060415\n",
      "Epoch 2/100, Training Loss: 0.42817006821249737, Training Accuracy: 0.8261205564142194, Validation Loss: 0.40589279362133573, Validation Accuracy: 0.8570784490532011\n",
      "Epoch 3/100, Training Loss: 0.3321313695223243, Training Accuracy: 0.8939335394126738, Validation Loss: 0.24141145880733217, Validation Accuracy: 0.9066726780883679\n",
      "Epoch 4/100, Training Loss: 0.2407084980312689, Training Accuracy: 0.9136398763523956, Validation Loss: 0.2370237248284476, Validation Accuracy: 0.9107303877366997\n",
      "Epoch 5/100, Training Loss: 0.24199575259361739, Training Accuracy: 0.9167310664605873, Validation Loss: 0.20298159761088236, Validation Accuracy: 0.9192966636609559\n",
      "Epoch 6/100, Training Loss: 0.1990577296158414, Training Accuracy: 0.9292890262751159, Validation Loss: 0.22022624569279806, Validation Accuracy: 0.9206492335437331\n",
      "Epoch 7/100, Training Loss: 0.18988909940292806, Training Accuracy: 0.9314142194744977, Validation Loss: 0.20559627562761307, Validation Accuracy: 0.9269612263300271\n",
      "Epoch 8/100, Training Loss: 0.18437618753056467, Training Accuracy: 0.9300618238021638, Validation Loss: 0.20737826111061233, Validation Accuracy: 0.9247069431920649\n",
      "Epoch 9/100, Training Loss: 0.21152190772103674, Training Accuracy: 0.92870942812983, Validation Loss: 0.19430346616676875, Validation Accuracy: 0.9233543733092876\n",
      "Epoch 10/100, Training Loss: 0.17848806064805867, Training Accuracy: 0.9364374034003091, Validation Loss: 0.18522571484957423, Validation Accuracy: 0.9256086564472498\n",
      "Epoch 11/100, Training Loss: 0.1733185426780471, Training Accuracy: 0.9379829984544049, Validation Loss: 0.17405977313007628, Validation Accuracy: 0.9337240757439135\n",
      "Epoch 12/100, Training Loss: 0.16174768366747433, Training Accuracy: 0.9412673879443586, Validation Loss: 0.2182654585157122, Validation Accuracy: 0.9215509467989179\n",
      "Epoch 13/100, Training Loss: 0.20156662350083576, Training Accuracy: 0.9258114374034003, Validation Loss: 0.17888130311455044, Validation Accuracy: 0.9350766456266907\n",
      "Epoch 14/100, Training Loss: 0.17585480295949513, Training Accuracy: 0.9374034003091191, Validation Loss: 0.1936495025243078, Validation Accuracy: 0.9274120829576195\n",
      "Epoch 15/100, Training Loss: 0.15107815765580276, Training Accuracy: 0.9459041731066461, Validation Loss: 0.17626817779881612, Validation Accuracy: 0.9377817853922452\n",
      "Epoch 16/100, Training Loss: 0.1405776505484993, Training Accuracy: 0.9486089644513137, Validation Loss: 0.17584876003009933, Validation Accuracy: 0.9418394950405771\n",
      "Early stopping after 16 epochs.\n",
      "Training complete.\n"
     ]
    }
   ],
   "source": [
    "history = fit_with_early_stopping(epochs=100, learning_rate=0.001, model=model, train_loader=train_loader, val_loader=val_loader, opt_func=torch.optim.Adam, patience=5)\n"
   ]
  },
  {
   "cell_type": "code",
   "execution_count": 22,
   "id": "8c9e052f",
   "metadata": {},
   "outputs": [],
   "source": [
    "def plot_losses(history):\n",
    "    train_losses = [x.get('train_loss') for x in history]\n",
    "    val_losses = [x['val_loss'] for x in history]\n",
    "    plt.plot(train_losses, '-bx')\n",
    "    plt.plot(val_losses, '-rx')\n",
    "    plt.xlabel('epoch')\n",
    "    plt.ylabel('loss')\n",
    "    plt.legend(['Training', 'Validation'])\n",
    "    plt.title('Loss vs. No. of epochs');"
   ]
  },
  {
   "cell_type": "code",
   "execution_count": 23,
   "id": "cc46c379",
   "metadata": {},
   "outputs": [],
   "source": [
    "def plot_accuracies(history):\n",
    "    accuracies = [x['val_acc'] for x in history]\n",
    "    plt.plot(accuracies, '-x')\n",
    "    plt.xlabel('epoch')\n",
    "    plt.ylabel('accuracy')\n",
    "    plt.title('Accuracy vs. No. of epochs');"
   ]
  },
  {
   "cell_type": "code",
   "execution_count": 24,
   "id": "2f50d5c3",
   "metadata": {},
   "outputs": [
    {
     "data": {
      "text/plain": [
       "{'train_loss': [0.6911682236341783,\n",
       "  0.42817006821249737,\n",
       "  0.3321313695223243,\n",
       "  0.2407084980312689,\n",
       "  0.24199575259361739,\n",
       "  0.1990577296158414,\n",
       "  0.18988909940292806,\n",
       "  0.18437618753056467,\n",
       "  0.21152190772103674,\n",
       "  0.17848806064805867,\n",
       "  0.1733185426780471,\n",
       "  0.16174768366747433,\n",
       "  0.20156662350083576,\n",
       "  0.17585480295949513,\n",
       "  0.15107815765580276,\n",
       "  0.1405776505484993],\n",
       " 'train_accuracy': [0.5255023183925811,\n",
       "  0.8261205564142194,\n",
       "  0.8939335394126738,\n",
       "  0.9136398763523956,\n",
       "  0.9167310664605873,\n",
       "  0.9292890262751159,\n",
       "  0.9314142194744977,\n",
       "  0.9300618238021638,\n",
       "  0.92870942812983,\n",
       "  0.9364374034003091,\n",
       "  0.9379829984544049,\n",
       "  0.9412673879443586,\n",
       "  0.9258114374034003,\n",
       "  0.9374034003091191,\n",
       "  0.9459041731066461,\n",
       "  0.9486089644513137],\n",
       " 'val_loss': [0.6802944285529,\n",
       "  0.40589279362133573,\n",
       "  0.24141145880733217,\n",
       "  0.2370237248284476,\n",
       "  0.20298159761088236,\n",
       "  0.22022624569279806,\n",
       "  0.20559627562761307,\n",
       "  0.20737826111061233,\n",
       "  0.19430346616676875,\n",
       "  0.18522571484957423,\n",
       "  0.17405977313007628,\n",
       "  0.2182654585157122,\n",
       "  0.17888130311455044,\n",
       "  0.1936495025243078,\n",
       "  0.17626817779881612,\n",
       "  0.17584876003009933],\n",
       " 'val_accuracy': [0.6880072137060415,\n",
       "  0.8570784490532011,\n",
       "  0.9066726780883679,\n",
       "  0.9107303877366997,\n",
       "  0.9192966636609559,\n",
       "  0.9206492335437331,\n",
       "  0.9269612263300271,\n",
       "  0.9247069431920649,\n",
       "  0.9233543733092876,\n",
       "  0.9256086564472498,\n",
       "  0.9337240757439135,\n",
       "  0.9215509467989179,\n",
       "  0.9350766456266907,\n",
       "  0.9274120829576195,\n",
       "  0.9377817853922452,\n",
       "  0.9418394950405771]}"
      ]
     },
     "execution_count": 24,
     "metadata": {},
     "output_type": "execute_result"
    }
   ],
   "source": [
    "history"
   ]
  },
  {
   "cell_type": "code",
   "execution_count": 25,
   "id": "ed35ce30",
   "metadata": {},
   "outputs": [
    {
     "data": {
      "text/plain": [
       "{'val_loss': 0.17730942368507385, 'val_acc': 0.941241443157196}"
      ]
     },
     "execution_count": 25,
     "metadata": {},
     "output_type": "execute_result"
    }
   ],
   "source": [
    "evaluate(model,val_loader)"
   ]
  },
  {
   "cell_type": "code",
   "execution_count": 26,
   "id": "e25f1df4",
   "metadata": {},
   "outputs": [],
   "source": [
    "torch.save(model.state_dict(), 's1_binary_class.pth')"
   ]
  },
  {
   "cell_type": "code",
   "execution_count": 27,
   "id": "a2a7e97f",
   "metadata": {},
   "outputs": [],
   "source": [
    "scripted_model = torch.jit.script(model)\n",
    "scripted_model.save(\"model_v1_scripted.pth\")"
   ]
  },
  {
   "cell_type": "code",
   "execution_count": 28,
   "id": "56c1ea42",
   "metadata": {},
   "outputs": [],
   "source": [
    "import pandas as pd\n",
    "\n",
    "def save_history_to_csv(history, csv_file):\n",
    "    df = pd.DataFrame({\n",
    "        'Epoch': range(1, len(history['train_loss']) + 1),\n",
    "        'Train Loss': history['train_loss'],\n",
    "        'Train Accuracy': history['train_accuracy'],\n",
    "        'Val Loss': history['val_loss'],\n",
    "        'Val Accuracy': history['val_accuracy']\n",
    "    })\n",
    "    df.to_csv(csv_file, sep='\\t', index=False)\n",
    "\n",
    "# Usage"
   ]
  },
  {
   "cell_type": "code",
   "execution_count": 29,
   "id": "d3292ecc",
   "metadata": {},
   "outputs": [],
   "source": [
    "save_history_to_csv(history, 'training_history.csv')\n"
   ]
  },
  {
   "cell_type": "code",
   "execution_count": 31,
   "id": "bf0c50f0",
   "metadata": {},
   "outputs": [
    {
     "data": {
      "image/png": "[encoded data removed]",
      "text/plain": [
       "<Figure size 864x432 with 2 Axes>"
      ]
     },
     "metadata": {
      "needs_background": "light"
     },
     "output_type": "display_data"
    }
   ],
   "source": [
    "import matplotlib.pyplot as plt\n",
    "\n",
    "def plot_training_history(history, save_plot_path=None):\n",
    "    epochs = range(1, len(history['train_loss']) + 1)\n",
    "\n",
    "    # Plotting Loss\n",
    "    plt.figure(figsize=(12, 6))\n",
    "    plt.subplot(1, 2, 1)\n",
    "    plt.plot(epochs, history['train_loss'], label='Training Loss')\n",
    "    plt.plot(epochs, history['val_loss'], label='Validation Loss')\n",
    "    plt.title('Training and Validation Loss')\n",
    "    plt.xlabel('Epoch')\n",
    "    plt.ylabel('Loss')\n",
    "    plt.legend()\n",
    "\n",
    "    # Plotting Accuracy\n",
    "    plt.subplot(1, 2, 2)\n",
    "    plt.plot(epochs, history['train_accuracy'], label='Training Accuracy')\n",
    "    plt.plot(epochs, history['val_accuracy'], label='Validation Accuracy')\n",
    "    plt.title('Training and Validation Accuracy')\n",
    "    plt.xlabel('Epoch')\n",
    "    plt.ylabel('Accuracy')\n",
    "    plt.legend()\n",
    "\n",
    "    plt.tight_layout()\n",
    "\n",
    "    # Save or Show Plot\n",
    "    if save_plot_path:\n",
    "        plt.savefig(save_plot_path)\n",
    "    else:\n",
    "        plt.show()\n",
    "\n",
    "# Usage\n",
    "plot_training_history(history, save_plot_path='training_history_plot.png')\n"
   ]
  },
  {
   "cell_type": "code",
   "execution_count": null,
   "id": "9f662e7b",
   "metadata": {},
   "outputs": [],
   "source": []
  }
 ],
 "metadata": {
  "kernelspec": {
   "display_name": "Python 3 (ipykernel)",
   "language": "python",
   "name": "python3"
  },
  "language_info": {
   "codemirror_mode": {
    "name": "ipython",
    "version": 3
   },
   "file_extension": ".py",
   "mimetype": "text/x-python",
   "name": "python",
   "nbconvert_exporter": "python",
   "pygments_lexer": "ipython3",
   "version": "3.9.7"
  }
 },
 "nbformat": 4,
 "nbformat_minor": 5
}
